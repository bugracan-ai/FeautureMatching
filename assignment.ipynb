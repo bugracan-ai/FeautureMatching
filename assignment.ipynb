{
 "cells": [
  {
   "cell_type": "markdown",
   "id": "8c1a1985",
   "metadata": {},
   "source": [
    "In this assignment, I used randomly choosed 2_dimensional and 3_dimensional points for calculating projection matrix(P). Then, I used ORB(Oriented FAST and Rotated BRIEF) for feature matching. Using these new knowledges, I calculated world coordinates for the given points in the reference image. Using the knowledge of the coordinates, I will be able to find Rotational Matrix(R) and translation matrix(T). But I couldn't take the inverse of the matrix. I couldn't find these informations. "
   ]
  },
  {
   "cell_type": "code",
   "execution_count": null,
   "id": "b96825e8",
   "metadata": {},
   "outputs": [],
   "source": [
    "import numpy as np\n",
    "data_2d = np.load('vr2d.npy')\n",
    "data_3d = np.load('vr3d.npy')"
   ]
  },
  {
   "cell_type": "code",
   "execution_count": 2,
   "id": "accffda5",
   "metadata": {},
   "outputs": [],
   "source": [
    "row1 = np.array([[data_2d[0][0][0], data_2d[0][0][1], 1]], np.float32)\n",
    "row2 = np.array([[data_2d[4][0][0], data_2d[4][0][1], 1]], np.float32)\n",
    "row3 = np.array([[data_2d[6][0][0], data_2d[6][0][1], 1]], np.float32)\n",
    "row4 = np.array([[data_2d[12][0][0], data_2d[6][0][1], 1]], np.float32)\n",
    "\n",
    "z_c_1 = data_3d[0][0][2]\n",
    "z_c_2 = data_3d[4][0][2]\n",
    "z_c_3 = data_3d[6][0][2]\n",
    "z_c_4 = data_3d[12][0][2]\n",
    "\n",
    "z1 = data_3d[0][0]\n",
    "z2 = data_3d[4][0]\n",
    "z3 = data_3d[6][0]\n",
    "z4 = data_3d[12][0]\n",
    "\n",
    "one_vector = np.array([[1]],np.float32)\n",
    "z1 = np.append(z1,one_vector)\n",
    "z2 = np.append(z2,one_vector)\n",
    "z3 = np.append(z3,one_vector)\n",
    "z4 = np.append(z4,one_vector)"
   ]
  },
  {
   "cell_type": "code",
   "execution_count": 3,
   "id": "0fe12560",
   "metadata": {},
   "outputs": [
    {
     "data": {
      "text/plain": [
       "array([[  4.076994 ,   2.5796685,   1.9781952,   8.264166 ],\n",
       "       [-10.0050955,  -0.9734893,  -2.4412844,  -3.2083879],\n",
       "       [  2.4227831,   1.8305027,   1.4702834,   4.441536 ],\n",
       "       [  1.       ,   1.       ,   1.       ,   1.       ]],\n",
       "      dtype=float32)"
      ]
     },
     "execution_count": 3,
     "metadata": {},
     "output_type": "execute_result"
    }
   ],
   "source": [
    "Q  =np.column_stack((z1,z2,z3,z4))\n",
    "Q"
   ]
  },
  {
   "cell_type": "code",
   "execution_count": 4,
   "id": "fc23a880",
   "metadata": {},
   "outputs": [],
   "source": [
    "row1 = np.multiply(row1,z_c_1)\n",
    "row2 = np.multiply(row2,z_c_2)\n",
    "row3 = np.multiply(row3,z_c_3)\n",
    "row4 = np.multiply(row4,z_c_4)"
   ]
  },
  {
   "cell_type": "code",
   "execution_count": 5,
   "id": "9f1edf16",
   "metadata": {},
   "outputs": [],
   "source": [
    "col1 = np.transpose(row1)\n",
    "col2 = np.transpose(row2)\n",
    "col3 = np.transpose(row3)\n",
    "col4 = np.transpose(row4)"
   ]
  },
  {
   "cell_type": "code",
   "execution_count": 6,
   "id": "d43a8cfc",
   "metadata": {},
   "outputs": [
    {
     "data": {
      "text/plain": [
       "array([[3.29013940e+03, 1.05803064e+03, 1.02331726e+03, 3.81972070e+03],\n",
       "       [1.29376624e+03, 1.08365759e+03, 9.35100220e+02, 2.82481689e+03],\n",
       "       [2.42278314e+00, 1.83050275e+00, 1.47028339e+00, 4.44153595e+00]],\n",
       "      dtype=float32)"
      ]
     },
     "execution_count": 6,
     "metadata": {},
     "output_type": "execute_result"
    }
   ],
   "source": [
    "A = np.concatenate((col1,col2,col3,col4),axis=1)\n",
    "A"
   ]
  },
  {
   "cell_type": "code",
   "execution_count": 7,
   "id": "609fe517",
   "metadata": {},
   "outputs": [
    {
     "data": {
      "text/plain": [
       "array([[ -1.4940624 ,  -0.15373863,   3.1211414 ,  -2.008735  ],\n",
       "       [ -7.0050197 ,  -0.08011552,  14.799109  ,  -8.097174  ],\n",
       "       [  7.1708755 ,   0.1748571 , -15.462091  ,   9.975142  ],\n",
       "       [  1.3282068 ,   0.05899706,  -2.4581592 ,   1.1307671 ]],\n",
       "      dtype=float32)"
      ]
     },
     "execution_count": 7,
     "metadata": {},
     "output_type": "execute_result"
    }
   ],
   "source": [
    "Inv = np.linalg.inv(Q)\n",
    "Inv"
   ]
  },
  {
   "cell_type": "code",
   "execution_count": 8,
   "id": "83d49623",
   "metadata": {},
   "outputs": [
    {
     "data": {
      "text/plain": [
       "array([[ 8.4260498e+01, -1.8629961e+02,  7.1479492e+02, -6.4912671e+02],\n",
       "       [ 9.3341748e+02,  4.4445171e+01, -1.3272607e+03,  1.1485698e+03],\n",
       "       [ 0.0000000e+00,  2.2351742e-08,  1.0000010e+00,  0.0000000e+00]],\n",
       "      dtype=float32)"
      ]
     },
     "execution_count": 8,
     "metadata": {},
     "output_type": "execute_result"
    }
   ],
   "source": [
    "P = np.matmul(A,Inv)\n",
    "P"
   ]
  },
  {
   "cell_type": "code",
   "execution_count": 9,
   "id": "18251950",
   "metadata": {},
   "outputs": [
    {
     "data": {
      "text/plain": [
       "array([1055.7664   , 1085.8562   ,    1.8258733], dtype=float32)"
      ]
     },
     "execution_count": 9,
     "metadata": {},
     "output_type": "execute_result"
    }
   ],
   "source": [
    "z_test = data_3d[5][0]\n",
    "one_vector = np.array([[1]],np.float32)\n",
    "Z_test = np.append(z_test,one_vector)\n",
    "np.matmul(P,Z_test)"
   ]
  },
  {
   "cell_type": "code",
   "execution_count": 10,
   "id": "a39fa302",
   "metadata": {},
   "outputs": [
    {
     "data": {
      "text/plain": [
       "array([ 2.5757904, -0.9808507,  1.8258715], dtype=float32)"
      ]
     },
     "execution_count": 10,
     "metadata": {},
     "output_type": "execute_result"
    }
   ],
   "source": [
    "z_test"
   ]
  },
  {
   "cell_type": "code",
   "execution_count": 11,
   "id": "bd408481",
   "metadata": {},
   "outputs": [
    {
     "data": {
      "text/plain": [
       "array([578., 592.], dtype=float32)"
      ]
     },
     "execution_count": 11,
     "metadata": {},
     "output_type": "execute_result"
    }
   ],
   "source": [
    "data_2d[5][0]"
   ]
  },
  {
   "cell_type": "code",
   "execution_count": 12,
   "id": "b5506a1b",
   "metadata": {},
   "outputs": [
    {
     "data": {
      "text/plain": [
       "578.2254442298926"
      ]
     },
     "execution_count": 12,
     "metadata": {},
     "output_type": "execute_result"
    }
   ],
   "source": [
    "1055.7664/1.8258733"
   ]
  },
  {
   "cell_type": "code",
   "execution_count": 13,
   "id": "e224346a",
   "metadata": {},
   "outputs": [
    {
     "data": {
      "text/plain": [
       "594.7051200102438"
      ]
     },
     "execution_count": 13,
     "metadata": {},
     "output_type": "execute_result"
    }
   ],
   "source": [
    "1085.8562/1.8258733"
   ]
  },
  {
   "cell_type": "code",
   "execution_count": 14,
   "id": "ec779daf",
   "metadata": {},
   "outputs": [
    {
     "name": "stdout",
     "output_type": "stream",
     "text": [
      "[<DMatch 0000022A4333DE90>, <DMatch 0000022A4333DD50>, <DMatch 0000022A4334E410>, <DMatch 0000022A4333D310>]\n"
     ]
    }
   ],
   "source": [
    "import cv2\n",
    "\n",
    "img1 = cv2.imread('img1.png')\n",
    "img2 = cv2.imread('img2.png')\n",
    "\n",
    "orb = cv2.ORB_create()\n",
    "\n",
    "keypoints1, descriptors1 = orb.detectAndCompute(img1, None)\n",
    "keypoints2, descriptors2 = orb.detectAndCompute(img2,None)\n",
    "\n",
    "bf = cv2.BFMatcher_create(cv2.NORM_HAMMING,crossCheck=True)\n",
    "matches = bf.match(descriptors1, descriptors2)\n",
    "\n",
    "matches = sorted(matches,key=lambda x:x.distance)    \n",
    "\n",
    "ORB_matches =cv2.drawMatches(img1, keypoints1, img2, keypoints2, matches[:4], None, flags=2)\n",
    "cv2.imwrite('resulted.png',ORB_matches)\n",
    "\n",
    "best_matches = matches[:4]\n",
    "print(best_matches)"
   ]
  },
  {
   "cell_type": "code",
   "execution_count": 15,
   "id": "1129bfe2",
   "metadata": {},
   "outputs": [
    {
     "data": {
      "text/plain": [
       "array([[ 0.53359276,  0.8010581 ,  0.7988345 ,  0.79745305],\n",
       "       [-3.5467124 , -8.059723  , -8.053458  , -8.272367  ],\n",
       "       [ 0.9999991 ,  0.9999992 ,  0.9999992 ,  0.9999992 ]],\n",
       "      dtype=float32)"
      ]
     },
     "execution_count": 15,
     "metadata": {},
     "output_type": "execute_result"
    }
   ],
   "source": [
    "import numpy\n",
    "\n",
    "world_coordinates= np.array([], dtype=np.float32)\n",
    "list_of_coordinates=[]\n",
    "for mat in best_matches:\n",
    "\n",
    "    # Get the matching keypoints for each of the images\n",
    "    img1_idx = mat.queryIdx\n",
    "    img2_idx = mat.trainIdx\n",
    "\n",
    "    # x - columns\n",
    "    # y - rows\n",
    "    (x1,y1) = keypoints1[img1_idx].pt\n",
    "    (x2,y2) = keypoints2[img2_idx].pt\n",
    "    \n",
    "    image1_coordinates = np.array([[x1, y1, 1]], np.float32)\n",
    "    image1_coordinates = np.transpose(image1_coordinates)\n",
    "    last_column = P[:,-1]\n",
    "    last_column = last_column.reshape(-1,1)\n",
    "    updated_result = np.subtract(image1_coordinates,last_column)\n",
    "    P_last_column_removed= P[:, :-1]\n",
    "    P_New_Inv = np.linalg.inv(P_last_column_removed)\n",
    "    \n",
    "    three_dimension_world_coordinates = np.matmul(P_New_Inv,updated_result)\n",
    "    list_of_coordinates.append(three_dimension_world_coordinates)\n",
    "\n",
    "world_coordinates  =np.column_stack((list_of_coordinates[0],list_of_coordinates[1],list_of_coordinates[2],list_of_coordinates[3]))\n",
    "world_coordinates"
   ]
  },
  {
   "cell_type": "code",
   "execution_count": 16,
   "id": "a70e1256",
   "metadata": {},
   "outputs": [
    {
     "name": "stdout",
     "output_type": "stream",
     "text": [
      "[<DMatch 0000022A4334FB10>, <DMatch 0000022A43358270>, <DMatch 0000022A4334FBF0>, <DMatch 0000022A4334E7D0>]\n"
     ]
    }
   ],
   "source": [
    "import cv2\n",
    "import numpy\n",
    "\n",
    "img1 = cv2.imread('img1.png')\n",
    "img3 = cv2.imread('img3.png')\n",
    "\n",
    "orb = cv2.ORB_create()\n",
    "\n",
    "keypoints1, descriptors1 = orb.detectAndCompute(img1, None)\n",
    "keypoints3, descriptors3 = orb.detectAndCompute(img3,None)\n",
    "\n",
    "bf_2 = cv2.BFMatcher_create(cv2.NORM_HAMMING,crossCheck=True)\n",
    "matches_2 = bf.match(descriptors1, descriptors3)\n",
    "\n",
    "matches_2 = sorted(matches_2,key=lambda x:x.distance)    \n",
    "\n",
    "ORB_matches_2 =cv2.drawMatches(img1, keypoints1, img3, keypoints3, matches[:4], None, flags=2)\n",
    "\n",
    "cv2.imwrite('resulted2.png',ORB_matches_2)\n",
    "best_matches_2 = matches_2[:4]\n",
    "print(best_matches_2)"
   ]
  },
  {
   "cell_type": "code",
   "execution_count": 17,
   "id": "ed7e316f",
   "metadata": {},
   "outputs": [
    {
     "data": {
      "text/plain": [
       "array([[ 0.7926368 ,  0.8124252 ,  0.49886245,  0.6679777 ],\n",
       "       [-8.03622   , -8.2717    , -5.2576504 , -8.545634  ],\n",
       "       [ 0.9999992 ,  0.9999992 ,  0.99999917,  0.9999992 ]],\n",
       "      dtype=float32)"
      ]
     },
     "execution_count": 17,
     "metadata": {},
     "output_type": "execute_result"
    }
   ],
   "source": [
    "world_coordinates_2= np.array([], dtype=np.float32)\n",
    "list_of_coordinates_2=[]\n",
    "for mat2 in best_matches_2:\n",
    "\n",
    "    # Get the matching keypoints for each of the images\n",
    "    img1_idx = mat2.queryIdx\n",
    "    img2_idx = mat2.trainIdx\n",
    "\n",
    "    # x - columns\n",
    "    # y - rows\n",
    "    (x1,y1) = keypoints1[img1_idx].pt\n",
    "    (x2,y2) = keypoints2[img2_idx].pt\n",
    "\n",
    "\n",
    "    image1_marked = cv2.circle(img1, (int(x1),int(y1)), 5, (0,0,255), 1)   \n",
    "    image3_marked = cv2.circle(img2, (int(x2),int(y2)), 5, (0,0,255), 1) \n",
    "    \n",
    "    image1_coordinates = np.array([[x1, y1, 1]], np.float32)\n",
    "    image1_coordinates = np.transpose(image1_coordinates)\n",
    "    last_column = P[:,-1]\n",
    "    last_column = last_column.reshape(-1,1)\n",
    "    updated_result = np.subtract(image1_coordinates,last_column)\n",
    "    P_last_column_removed= P[:, :-1]\n",
    "    P_New_Inv = np.linalg.inv(P_last_column_removed)\n",
    "    \n",
    "    three_dimension_world_coordinates = np.matmul(P_New_Inv,updated_result)\n",
    "    list_of_coordinates_2.append(three_dimension_world_coordinates)\n",
    "\n",
    "world_coordinates_2  =np.column_stack((list_of_coordinates_2[0],list_of_coordinates_2[1],list_of_coordinates_2[2],list_of_coordinates_2[3]))\n",
    "world_coordinates_2"
   ]
  },
  {
   "cell_type": "code",
   "execution_count": null,
   "id": "8fba130c",
   "metadata": {},
   "outputs": [],
   "source": []
  }
 ],
 "metadata": {
  "kernelspec": {
   "display_name": "Python 3",
   "language": "python",
   "name": "python3"
  },
  "language_info": {
   "codemirror_mode": {
    "name": "ipython",
    "version": 3
   },
   "file_extension": ".py",
   "mimetype": "text/x-python",
   "name": "python",
   "nbconvert_exporter": "python",
   "pygments_lexer": "ipython3",
   "version": "3.8.8"
  }
 },
 "nbformat": 4,
 "nbformat_minor": 5
}
